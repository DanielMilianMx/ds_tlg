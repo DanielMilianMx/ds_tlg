{
  "nbformat": 4,
  "nbformat_minor": 0,
  "metadata": {
    "colab": {
      "provenance": []
    },
    "kernelspec": {
      "name": "python3",
      "display_name": "Python 3"
    },
    "language_info": {
      "name": "python"
    }
  },
  "cells": [
    {
      "cell_type": "markdown",
      "source": [
        "# Importar librerias"
      ],
      "metadata": {
        "id": "EbTQwRseo4S8"
      }
    },
    {
      "cell_type": "code",
      "source": [
        "import pandas as pd"
      ],
      "metadata": {
        "id": "ZiWWiEPDo98T"
      },
      "execution_count": 29,
      "outputs": []
    },
    {
      "cell_type": "markdown",
      "source": [
        "# a. Extraer la información del archivo. "
      ],
      "metadata": {
        "id": "Ow5I7qNuowfG"
      }
    },
    {
      "cell_type": "code",
      "source": [
        "df = pd.read_csv('country_vaccinations.csv', parse_dates = ['date'])"
      ],
      "metadata": {
        "id": "MFVgFR5foy_u"
      },
      "execution_count": 30,
      "outputs": []
    },
    {
      "cell_type": "markdown",
      "source": [
        "# b. Mostrar la estructura y tipos de datos de cada columna para identificar qué operaciones puedes realizar con cada una de ellas, asegurándote que las columnas con fechas sean del tipo datetime64. "
      ],
      "metadata": {
        "id": "zGWahRFYpLGZ"
      }
    },
    {
      "cell_type": "code",
      "source": [
        "df.info()"
      ],
      "metadata": {
        "colab": {
          "base_uri": "https://localhost:8080/"
        },
        "id": "D_dESEoVpJbF",
        "outputId": "808ca04f-324c-4bc0-bece-a43f50afee78"
      },
      "execution_count": 31,
      "outputs": [
        {
          "output_type": "stream",
          "name": "stdout",
          "text": [
            "<class 'pandas.core.frame.DataFrame'>\n",
            "RangeIndex: 86512 entries, 0 to 86511\n",
            "Data columns (total 15 columns):\n",
            " #   Column                               Non-Null Count  Dtype         \n",
            "---  ------                               --------------  -----         \n",
            " 0   country                              86512 non-null  object        \n",
            " 1   iso_code                             86512 non-null  object        \n",
            " 2   date                                 86512 non-null  datetime64[ns]\n",
            " 3   total_vaccinations                   43607 non-null  float64       \n",
            " 4   people_vaccinated                    41294 non-null  float64       \n",
            " 5   people_fully_vaccinated              38802 non-null  float64       \n",
            " 6   daily_vaccinations_raw               35362 non-null  float64       \n",
            " 7   daily_vaccinations                   86213 non-null  float64       \n",
            " 8   total_vaccinations_per_hundred       43607 non-null  float64       \n",
            " 9   people_vaccinated_per_hundred        41294 non-null  float64       \n",
            " 10  people_fully_vaccinated_per_hundred  38802 non-null  float64       \n",
            " 11  daily_vaccinations_per_million       86213 non-null  float64       \n",
            " 12  vaccines                             86512 non-null  object        \n",
            " 13  source_name                          86512 non-null  object        \n",
            " 14  source_website                       86512 non-null  object        \n",
            "dtypes: datetime64[ns](1), float64(9), object(5)\n",
            "memory usage: 9.9+ MB\n"
          ]
        }
      ]
    },
    {
      "cell_type": "markdown",
      "source": [
        "#c. Determinar la cantidad de vacunas aplicadas de cada compañía (con base en cómo lo reporta cada país en la columna vaccines). "
      ],
      "metadata": {
        "id": "XsDNl5Qhq3GX"
      }
    },
    {
      "cell_type": "code",
      "source": [
        "df['vaccines'].value_counts()\n"
      ],
      "metadata": {
        "colab": {
          "base_uri": "https://localhost:8080/"
        },
        "id": "n7KvLZewpVRP",
        "outputId": "797a784d-373f-4db9-a4e7-8d6773470a3d"
      },
      "execution_count": 32,
      "outputs": [
        {
          "output_type": "execute_result",
          "data": {
            "text/plain": [
              "Johnson&Johnson, Moderna, Oxford/AstraZeneca, Pfizer/BioNTech                     7608\n",
              "Moderna, Oxford/AstraZeneca, Pfizer/BioNTech                                      6263\n",
              "Oxford/AstraZeneca                                                                6022\n",
              "Oxford/AstraZeneca, Pfizer/BioNTech                                               4629\n",
              "Johnson&Johnson, Moderna, Novavax, Oxford/AstraZeneca, Pfizer/BioNTech            3564\n",
              "                                                                                  ... \n",
              "Johnson&Johnson, Oxford/AstraZeneca, Sinovac                                       312\n",
              "Moderna, Oxford/AstraZeneca, Pfizer/BioNTech, Sinovac, Sputnik V                   311\n",
              "Johnson&Johnson, Moderna                                                           251\n",
              "Johnson&Johnson, Pfizer/BioNTech, Sinopharm/Beijing                                228\n",
              "EpiVacCorona, Oxford/AstraZeneca, QazVac, Sinopharm/Beijing, Sputnik V, ZF2001     190\n",
              "Name: vaccines, Length: 84, dtype: int64"
            ]
          },
          "metadata": {},
          "execution_count": 32
        }
      ]
    },
    {
      "cell_type": "markdown",
      "source": [
        "# d. Obtener la cantidad de vacunas aplicadas en todo el mundo. "
      ],
      "metadata": {
        "id": "fVUOLCLesNqV"
      }
    },
    {
      "cell_type": "code",
      "source": [
        "print('Se han aplicado '+str(df['people_vaccinated'].sum())+' vacunas en el mundo.')"
      ],
      "metadata": {
        "colab": {
          "base_uri": "https://localhost:8080/"
        },
        "id": "NOUyXPaBsM3x",
        "outputId": "a7506bff-ddb9-41ad-b47f-e290e071ec4f"
      },
      "execution_count": 33,
      "outputs": [
        {
          "output_type": "stream",
          "name": "stdout",
          "text": [
            "Se han aplicado 731113482252.0 vacunas en el mundo.\n"
          ]
        }
      ]
    },
    {
      "cell_type": "markdown",
      "source": [
        "# e. Calcular el promedio de vacunas aplicadas por país. \n",
        "\n"
      ],
      "metadata": {
        "id": "Y_GyUaC7tiaQ"
      }
    },
    {
      "cell_type": "code",
      "source": [
        "df[['country','people_vaccinated']].groupby('country').mean()"
      ],
      "metadata": {
        "colab": {
          "base_uri": "https://localhost:8080/",
          "height": 455
        },
        "id": "RPwud1OAtjCk",
        "outputId": "7157d024-58f7-415a-aa34-23ce3cebaead"
      },
      "execution_count": 34,
      "outputs": [
        {
          "output_type": "execute_result",
          "data": {
            "text/plain": [
              "                   people_vaccinated\n",
              "country                             \n",
              "Afghanistan             2.283978e+06\n",
              "Albania                 7.691666e+05\n",
              "Algeria                 5.667521e+06\n",
              "Andorra                 3.393784e+04\n",
              "Angola                  4.030443e+06\n",
              "...                              ...\n",
              "Wales                   2.024054e+06\n",
              "Wallis and Futuna       4.919744e+03\n",
              "Yemen                   3.887164e+05\n",
              "Zambia                  3.126864e+05\n",
              "Zimbabwe                2.405831e+06\n",
              "\n",
              "[223 rows x 1 columns]"
            ],
            "text/html": [
              "\n",
              "  <div id=\"df-c23e574b-e1da-4a15-9e94-339c3192a3a2\">\n",
              "    <div class=\"colab-df-container\">\n",
              "      <div>\n",
              "<style scoped>\n",
              "    .dataframe tbody tr th:only-of-type {\n",
              "        vertical-align: middle;\n",
              "    }\n",
              "\n",
              "    .dataframe tbody tr th {\n",
              "        vertical-align: top;\n",
              "    }\n",
              "\n",
              "    .dataframe thead th {\n",
              "        text-align: right;\n",
              "    }\n",
              "</style>\n",
              "<table border=\"1\" class=\"dataframe\">\n",
              "  <thead>\n",
              "    <tr style=\"text-align: right;\">\n",
              "      <th></th>\n",
              "      <th>people_vaccinated</th>\n",
              "    </tr>\n",
              "    <tr>\n",
              "      <th>country</th>\n",
              "      <th></th>\n",
              "    </tr>\n",
              "  </thead>\n",
              "  <tbody>\n",
              "    <tr>\n",
              "      <th>Afghanistan</th>\n",
              "      <td>2.283978e+06</td>\n",
              "    </tr>\n",
              "    <tr>\n",
              "      <th>Albania</th>\n",
              "      <td>7.691666e+05</td>\n",
              "    </tr>\n",
              "    <tr>\n",
              "      <th>Algeria</th>\n",
              "      <td>5.667521e+06</td>\n",
              "    </tr>\n",
              "    <tr>\n",
              "      <th>Andorra</th>\n",
              "      <td>3.393784e+04</td>\n",
              "    </tr>\n",
              "    <tr>\n",
              "      <th>Angola</th>\n",
              "      <td>4.030443e+06</td>\n",
              "    </tr>\n",
              "    <tr>\n",
              "      <th>...</th>\n",
              "      <td>...</td>\n",
              "    </tr>\n",
              "    <tr>\n",
              "      <th>Wales</th>\n",
              "      <td>2.024054e+06</td>\n",
              "    </tr>\n",
              "    <tr>\n",
              "      <th>Wallis and Futuna</th>\n",
              "      <td>4.919744e+03</td>\n",
              "    </tr>\n",
              "    <tr>\n",
              "      <th>Yemen</th>\n",
              "      <td>3.887164e+05</td>\n",
              "    </tr>\n",
              "    <tr>\n",
              "      <th>Zambia</th>\n",
              "      <td>3.126864e+05</td>\n",
              "    </tr>\n",
              "    <tr>\n",
              "      <th>Zimbabwe</th>\n",
              "      <td>2.405831e+06</td>\n",
              "    </tr>\n",
              "  </tbody>\n",
              "</table>\n",
              "<p>223 rows × 1 columns</p>\n",
              "</div>\n",
              "      <button class=\"colab-df-convert\" onclick=\"convertToInteractive('df-c23e574b-e1da-4a15-9e94-339c3192a3a2')\"\n",
              "              title=\"Convert this dataframe to an interactive table.\"\n",
              "              style=\"display:none;\">\n",
              "        \n",
              "  <svg xmlns=\"http://www.w3.org/2000/svg\" height=\"24px\"viewBox=\"0 0 24 24\"\n",
              "       width=\"24px\">\n",
              "    <path d=\"M0 0h24v24H0V0z\" fill=\"none\"/>\n",
              "    <path d=\"M18.56 5.44l.94 2.06.94-2.06 2.06-.94-2.06-.94-.94-2.06-.94 2.06-2.06.94zm-11 1L8.5 8.5l.94-2.06 2.06-.94-2.06-.94L8.5 2.5l-.94 2.06-2.06.94zm10 10l.94 2.06.94-2.06 2.06-.94-2.06-.94-.94-2.06-.94 2.06-2.06.94z\"/><path d=\"M17.41 7.96l-1.37-1.37c-.4-.4-.92-.59-1.43-.59-.52 0-1.04.2-1.43.59L10.3 9.45l-7.72 7.72c-.78.78-.78 2.05 0 2.83L4 21.41c.39.39.9.59 1.41.59.51 0 1.02-.2 1.41-.59l7.78-7.78 2.81-2.81c.8-.78.8-2.07 0-2.86zM5.41 20L4 18.59l7.72-7.72 1.47 1.35L5.41 20z\"/>\n",
              "  </svg>\n",
              "      </button>\n",
              "      \n",
              "  <style>\n",
              "    .colab-df-container {\n",
              "      display:flex;\n",
              "      flex-wrap:wrap;\n",
              "      gap: 12px;\n",
              "    }\n",
              "\n",
              "    .colab-df-convert {\n",
              "      background-color: #E8F0FE;\n",
              "      border: none;\n",
              "      border-radius: 50%;\n",
              "      cursor: pointer;\n",
              "      display: none;\n",
              "      fill: #1967D2;\n",
              "      height: 32px;\n",
              "      padding: 0 0 0 0;\n",
              "      width: 32px;\n",
              "    }\n",
              "\n",
              "    .colab-df-convert:hover {\n",
              "      background-color: #E2EBFA;\n",
              "      box-shadow: 0px 1px 2px rgba(60, 64, 67, 0.3), 0px 1px 3px 1px rgba(60, 64, 67, 0.15);\n",
              "      fill: #174EA6;\n",
              "    }\n",
              "\n",
              "    [theme=dark] .colab-df-convert {\n",
              "      background-color: #3B4455;\n",
              "      fill: #D2E3FC;\n",
              "    }\n",
              "\n",
              "    [theme=dark] .colab-df-convert:hover {\n",
              "      background-color: #434B5C;\n",
              "      box-shadow: 0px 1px 3px 1px rgba(0, 0, 0, 0.15);\n",
              "      filter: drop-shadow(0px 1px 2px rgba(0, 0, 0, 0.3));\n",
              "      fill: #FFFFFF;\n",
              "    }\n",
              "  </style>\n",
              "\n",
              "      <script>\n",
              "        const buttonEl =\n",
              "          document.querySelector('#df-c23e574b-e1da-4a15-9e94-339c3192a3a2 button.colab-df-convert');\n",
              "        buttonEl.style.display =\n",
              "          google.colab.kernel.accessAllowed ? 'block' : 'none';\n",
              "\n",
              "        async function convertToInteractive(key) {\n",
              "          const element = document.querySelector('#df-c23e574b-e1da-4a15-9e94-339c3192a3a2');\n",
              "          const dataTable =\n",
              "            await google.colab.kernel.invokeFunction('convertToInteractive',\n",
              "                                                     [key], {});\n",
              "          if (!dataTable) return;\n",
              "\n",
              "          const docLinkHtml = 'Like what you see? Visit the ' +\n",
              "            '<a target=\"_blank\" href=https://colab.research.google.com/notebooks/data_table.ipynb>data table notebook</a>'\n",
              "            + ' to learn more about interactive tables.';\n",
              "          element.innerHTML = '';\n",
              "          dataTable['output_type'] = 'display_data';\n",
              "          await google.colab.output.renderOutput(dataTable, element);\n",
              "          const docLink = document.createElement('div');\n",
              "          docLink.innerHTML = docLinkHtml;\n",
              "          element.appendChild(docLink);\n",
              "        }\n",
              "      </script>\n",
              "    </div>\n",
              "  </div>\n",
              "  "
            ]
          },
          "metadata": {},
          "execution_count": 34
        }
      ]
    },
    {
      "cell_type": "markdown",
      "source": [
        "#f. Determinar la cantidad de vacunas aplicadas el día 29/01/21 en todo el mundo. "
      ],
      "metadata": {
        "id": "KNDN1lAwtkKf"
      }
    },
    {
      "cell_type": "code",
      "source": [
        "print('En la fecha 2021-01-29 se aplicaron '+str(df.loc[df['date']=='2021-01-29','people_vaccinated'].sum())+' vacunas en todo el mundo')"
      ],
      "metadata": {
        "colab": {
          "base_uri": "https://localhost:8080/"
        },
        "id": "9Q5YuCxszjaw",
        "outputId": "d0623026-d612-4772-de31-d624e64f814b"
      },
      "execution_count": 35,
      "outputs": [
        {
          "output_type": "stream",
          "name": "stdout",
          "text": [
            "En la fecha 2021-01-29 se aplicaron 65432091.0 vacunas en todo el mundo\n"
          ]
        }
      ]
    },
    {
      "cell_type": "markdown",
      "source": [
        "#g. Crear un dataframe nuevo denominado conDiferencias que contenga los datos originales y una columna derivada (diferencias) con las diferencias de aplicación entre las columnas daily_vaccionations y daily_vaccionations_raw.  "
      ],
      "metadata": {
        "id": "3yqpYnLRyGTw"
      }
    },
    {
      "cell_type": "code",
      "source": [
        "conDiferencias = df[:][:]\n",
        "conDiferencias['diferencias'] = conDiferencias['daily_vaccinations'] - conDiferencias['daily_vaccinations_raw']"
      ],
      "metadata": {
        "id": "2Kz0iXCm2CKl"
      },
      "execution_count": 36,
      "outputs": []
    },
    {
      "cell_type": "markdown",
      "source": [
        "#h. Obtener el período de tiempo entre el registro con fecha más reciente y el registro con fecha más antigua. "
      ],
      "metadata": {
        "id": "vQNezzmKyHcl"
      }
    },
    {
      "cell_type": "code",
      "source": [
        "print('El periodo de tiempo entre el registro más reciente y el de fecha más antigua es: '+ str(df['date'].max()-df['date'].min()) + '.')"
      ],
      "metadata": {
        "colab": {
          "base_uri": "https://localhost:8080/"
        },
        "id": "eTWX4ZdNG8go",
        "outputId": "6136008d-0f71-4e46-a06a-2d9080062832"
      },
      "execution_count": 37,
      "outputs": [
        {
          "output_type": "stream",
          "name": "stdout",
          "text": [
            "El periodo de tiempo entre el registro más reciente y el de fecha más antigua es: 482 days 00:00:00.\n"
          ]
        }
      ]
    },
    {
      "cell_type": "markdown",
      "source": [
        "#i. Crear un dataframe nuevo denominado conCantidad que contenga los datos originales y una columna derivada (canVac) con la cantidad de vacunas utilizadas cada día (usar la columna vaccines y separar por el carácter /). "
      ],
      "metadata": {
        "id": "msUg_90lyQM_"
      }
    },
    {
      "cell_type": "code",
      "source": [
        "conCantidad = df[:][:]\n",
        "conCantidad['canVac'] = conCantidad['vaccines'].str.split('/').str.len()"
      ],
      "metadata": {
        "id": "rDbDzamoH8sx"
      },
      "execution_count": 38,
      "outputs": []
    },
    {
      "cell_type": "markdown",
      "source": [
        "#j. Generar un dataframe denominado antes20 con todos los registros que se hayan realizado antes del 20 de diciembre de 2020. "
      ],
      "metadata": {
        "id": "0u2yJw_xyRvo"
      }
    },
    {
      "cell_type": "code",
      "source": [
        "antes20=df[df['date']<'2020-12-20']"
      ],
      "metadata": {
        "id": "qZpPU60O3HNM"
      },
      "execution_count": 39,
      "outputs": []
    },
    {
      "cell_type": "markdown",
      "source": [
        "#k. Obtener un dataframe denominado pfizer con todos los registros donde se haya utilizado la vacuna Pfizer. "
      ],
      "metadata": {
        "id": "NJRwtCweyVA5"
      }
    },
    {
      "cell_type": "code",
      "source": [
        "pfizer=df[df['vaccines'].str.contains('Pfizer',case = False)]"
      ],
      "metadata": {
        "id": "jqnoVkjt3xul"
      },
      "execution_count": 40,
      "outputs": []
    },
    {
      "cell_type": "markdown",
      "source": [
        "#l. Almacenar los dataframes generados (conDiferencias, conCantidad, antes20 y pfizer) en un archivo de Excel denominado resultadosReto.xlsx, donde cada dataframe ocupe una hoja diferente. Se recomienda ver la documentación de pd.ExcelWriter. "
      ],
      "metadata": {
        "id": "iLS_3mMryYyt"
      }
    },
    {
      "cell_type": "code",
      "source": [
        "with pd.ExcelWriter(\"resultadosReto.xlsx\") as writer:\n",
        "    conDiferencias.to_excel(writer, sheet_name=\"conDiferencias\")  \n",
        "    conCantidad.to_excel(writer, sheet_name=\"conCantidad\")  \n",
        "    antes20.to_excel(writer, sheet_name=\"antes20\")  \n",
        "    pfizer.to_excel(writer, sheet_name=\"pfizer\") "
      ],
      "metadata": {
        "id": "rIjFcncotosK"
      },
      "execution_count": 41,
      "outputs": []
    }
  ]
}